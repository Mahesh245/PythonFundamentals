{
 "cells": [
  {
   "cell_type": "code",
   "execution_count": 9,
   "id": "e36d82b9",
   "metadata": {},
   "outputs": [
    {
     "name": "stdout",
     "output_type": "stream",
     "text": [
      "keep up good work,Mahesh\n",
      "I will be looking forward to receive your github urls of today,Mahesh\n",
      "\n",
      "keep up good work,Kumar\n",
      "I will be looking forward to receive your github urls of today,Kumar\n",
      "\n",
      "keep up good work,Ashish\n",
      "I will be looking forward to receive your github urls of today,Ashish\n",
      "\n",
      "keep up good work,Navya\n",
      "I will be looking forward to receive your github urls of today,Navya\n",
      "\n",
      "keep up good work,Geetha\n",
      "I will be looking forward to receive your github urls of today,Geetha\n",
      "\n",
      "Thank you for joining Pything training classes\n"
     ]
    }
   ],
   "source": [
    "students=['Mahesh','Kumar','ashish','navya','geetha']\n",
    "for x in students:\n",
    "    print(f\"keep up good work,{x.title()}\")\n",
    "    print(f\"I will be looking forward to receive your github urls of today,{x.title()}\\n\")\n",
    "print(\"Thank you for joining Pything training classes\")"
   ]
  },
  {
   "cell_type": "code",
   "execution_count": 11,
   "id": "c1947b2e",
   "metadata": {},
   "outputs": [
    {
     "ename": "IndentationError",
     "evalue": "expected an indented block (Temp/ipykernel_24672/2829379544.py, line 2)",
     "output_type": "error",
     "traceback": [
      "\u001b[1;36m  File \u001b[1;32m\"C:\\Users\\E418370\\AppData\\Local\\Temp/ipykernel_24672/2829379544.py\"\u001b[1;36m, line \u001b[1;32m2\u001b[0m\n\u001b[1;33m    print(tempvar)\u001b[0m\n\u001b[1;37m    ^\u001b[0m\n\u001b[1;31mIndentationError\u001b[0m\u001b[1;31m:\u001b[0m expected an indented block\n"
     ]
    }
   ],
   "source": [
    "for tempvar in mainvar:\n",
    "print(tempvar)"
   ]
  },
  {
   "cell_type": "code",
   "execution_count": null,
   "id": "7f4ec79f",
   "metadata": {},
   "outputs": [],
   "source": []
  }
 ],
 "metadata": {
  "kernelspec": {
   "display_name": "Python 3 (ipykernel)",
   "language": "python",
   "name": "python3"
  },
  "language_info": {
   "codemirror_mode": {
    "name": "ipython",
    "version": 3
   },
   "file_extension": ".py",
   "mimetype": "text/x-python",
   "name": "python",
   "nbconvert_exporter": "python",
   "pygments_lexer": "ipython3",
   "version": "3.9.7"
  }
 },
 "nbformat": 4,
 "nbformat_minor": 5
}
